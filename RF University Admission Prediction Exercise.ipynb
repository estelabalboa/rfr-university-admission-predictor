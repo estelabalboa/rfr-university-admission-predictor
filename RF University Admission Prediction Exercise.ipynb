{
 "cells": [
  {
   "cell_type": "markdown",
   "metadata": {},
   "source": [
    "# AI6 Training Exercise - University Admission Prediction\n",
    "## Predicción de admisión a la universidad mediante diferentes parámetros\n",
    "\n",
    "*Autores: Mohan S Acharya, Asfia Armaan, Aneeta S Antony*\n",
    "\n",
    "*Source: Indian Institutes of Technology*\n",
    "\n",
    "El dataset contiene los datos relacionados con la probabilidad de admisión de diferentes estudiantes hindúes en las diferentes escuelas IIT, las más prestigiosas del país.\n",
    "\n",
    "La predicción de probabilidad de admisión va del 0-1.\n",
    "\n",
    "Este dataset contiene varios parámetros que se consideran importantes en el proceso de admisión a los diferentes programas de máster en IIT:\n",
    "1. GRE Scores ( out of 340 )\n",
    "2. TOEFL Scores ( out of 120 )\n",
    "3. University Rating ( out of 5 )\n",
    "4. Statement of Purpose and Letter of Recommendation Strength ( out of 5 )\n",
    "5. Undergraduate GPA ( out of 10 )\n",
    "6. Research Experience ( either 0 or 1 )\n",
    "7. Chance of Admit ( ranging from 0 to 1 )\n",
    "\n",
    "![Entrada principal al edificio de IIT Delhi](https://s3.ap-southeast-1.amazonaws.com/images.asianage.com/images/aa-Cover-cmrb66stiu4qb3nga8t6dmj1c1-20170504020730.Medi.jpeg)\n",
    "<p style=\"text-align: center;\"><em>Fig 1. Indian Institute of Technology in Delhi</em></p>\n",
    "\n",
    "La principal tarea será predecir la probabilidad de admisión de nuevos aplicantes a estos programas. También será necesario obtener información esencial sobre nuestro dataset y conseguir la feature importance de los diferentes parámetros para ayudar a determinar las áreas más importantes para futuros estudiantes."
   ]
  },
  {
   "cell_type": "code",
   "execution_count": null,
   "metadata": {},
   "outputs": [],
   "source": [
    "# Importar librerías necesarias\n",
    "import numpy as np\n",
    "import pandas as pd\n",
    "from time import time\n",
    "from IPython.display import display\n",
    "\n",
    "# Importar aquí librerias de sklearn y fastai que se consideren necesarias\n",
    "\n",
    "import matplotlib.pyplot as plt\n",
    "\n",
    "%matplotlib inline"
   ]
  },
  {
   "cell_type": "code",
   "execution_count": null,
   "metadata": {},
   "outputs": [],
   "source": [
    "# Crear dataframe a partir de .csv\n",
    "\n",
    "\n",
    "# Mostrar número de filas y columnas del dataframe\n",
    "\n",
    "\n",
    "# Mostrar las primeras 10 filas\n"
   ]
  },
  {
   "cell_type": "code",
   "execution_count": null,
   "metadata": {},
   "outputs": [],
   "source": [
    "#El número de serie del alumno no se considera una variable importante por lo que la eliminaremos del dataset\n",
    "\n",
    "\n",
    "#Simplificamos nombres de columnas para que sea mas fácil.\n",
    "df = df.rename(index=str, columns={\"GRE Score\": \"GRE\", \"TOEFL Score\": \"TOEFL\", \"University Rating\": \"URat\", \"LOR \": \"LOR\", \"Chance of Admit \": \"Chance\"})\n",
    "\n",
    "df.head()"
   ]
  },
  {
   "cell_type": "code",
   "execution_count": null,
   "metadata": {},
   "outputs": [],
   "source": [
    "# Hallar número de valores únicos en cada columna\n"
   ]
  },
  {
   "cell_type": "code",
   "execution_count": null,
   "metadata": {},
   "outputs": [],
   "source": [
    "# Comprobar la existencia de valores nulos en el dataset\n"
   ]
  },
  {
   "cell_type": "code",
   "execution_count": null,
   "metadata": {},
   "outputs": [],
   "source": [
    "# Mostrar información general del dataframe\n"
   ]
  },
  {
   "cell_type": "code",
   "execution_count": null,
   "metadata": {},
   "outputs": [],
   "source": [
    "# Descripción analítica básica del dataframe\n"
   ]
  },
  {
   "cell_type": "markdown",
   "metadata": {},
   "source": [
    "### Establecer las relaciones entre las features"
   ]
  },
  {
   "cell_type": "code",
   "execution_count": null,
   "metadata": {},
   "outputs": [],
   "source": [
    "# Mostrar matriz de correlación de variables\n",
    "# Pista: explore plt.matshow y corr() de un dataframe\n"
   ]
  },
  {
   "cell_type": "code",
   "execution_count": null,
   "metadata": {},
   "outputs": [],
   "source": [
    "# Mostrar correlaciones como una función discreta entre las diferentes variables con una matriz\n",
    "# útil para apreciar relaciones lineales\n",
    "\n",
    "# Pista: explore pd.plotting.scatter_matrix\n"
   ]
  },
  {
   "cell_type": "markdown",
   "metadata": {},
   "source": [
    "### Extraer features más importantes a través de un RF, usar función de *fastai* en su lugar"
   ]
  },
  {
   "cell_type": "code",
   "execution_count": null,
   "metadata": {},
   "outputs": [],
   "source": [
    "# Crear un dataframe solo con la columna de la variable dependiente\n",
    "\n",
    "# Crear un dataframe con las variables independientes\n",
    "\n",
    "\n",
    "# Definir un RF con diferentes hiperparámetros (¡experimentar!)\n",
    "\n",
    "\n",
    "# Entrenar un RF con la totalidad del dataset\n",
    "\n",
    "\n",
    "###### Snippet para imprimir resultados, df es la variable que refiere\n",
    "###### al dataframe y clf al regresor, cambiarlas si es necesario\n",
    "\n",
    "\n",
    "feature_list = list(zip(df.columns.values, clf.feature_importances_))\n",
    "sorted_by_importance = sorted(feature_list, key=lambda x: x[1], reverse=True)\n",
    "\n",
    "for feat, value in sorted_by_importance:\n",
    "    print(feat, value)"
   ]
  },
  {
   "cell_type": "code",
   "execution_count": null,
   "metadata": {},
   "outputs": [],
   "source": [
    "# Partir el test en cierta proporción (¡experimentar!)\n",
    "X_train, X_test, y_train, y_test = # ?\n",
    "\n",
    "###### Snippet para imprimir resultados, X_train es la variable que refiere\n",
    "###### a la porcion de entrenamiento y X_test a la de test\n",
    "\n",
    "print(\"El dataset de training tiene {} elementos.\".format(X_train.shape[0]))\n",
    "print(\"El dataset de testing tiene {} elementos.\".format(X_test.shape[0]))"
   ]
  },
  {
   "cell_type": "code",
   "execution_count": null,
   "metadata": {},
   "outputs": [],
   "source": [
    "# Definir un rfregressor\n",
    "\n",
    "# Entrenar el regresor con el dataset de train\n",
    "\n",
    "\n",
    "# Predecir valores para las variables independientes de test\n",
    "\n",
    "\n",
    "# Calcular la precisión\n",
    "# Pista: explorar sklearn.metrics\n",
    "print(\"Precisión global: \" + str(metrics.r2_score(y_test, predicted)))\n",
    "print(\"MSE: \" + str(metrics.mean_squared_error(y_test, predicted)))"
   ]
  }
 ],
 "metadata": {
  "kernelspec": {
   "display_name": "Python 3",
   "language": "python",
   "name": "python3"
  },
  "language_info": {
   "codemirror_mode": {
    "name": "ipython",
    "version": 3
   },
   "file_extension": ".py",
   "mimetype": "text/x-python",
   "name": "python",
   "nbconvert_exporter": "python",
   "pygments_lexer": "ipython3",
   "version": "3.6.8"
  }
 },
 "nbformat": 4,
 "nbformat_minor": 2
}
